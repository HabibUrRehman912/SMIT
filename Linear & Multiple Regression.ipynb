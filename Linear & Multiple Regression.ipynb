{
 "cells": [
  {
   "cell_type": "code",
   "execution_count": 39,
   "id": "8e3dd029",
   "metadata": {},
   "outputs": [],
   "source": [
    "import pandas as pd\n",
    "import numpy as np\n",
    "import matplotlib.pyplot as plt"
   ]
  },
  {
   "cell_type": "code",
   "execution_count": 40,
   "id": "24a22ab7",
   "metadata": {},
   "outputs": [],
   "source": [
    "data = pd.DataFrame({'diameter':[6,8,10,14,18], 'price':[7,9,13,17.5,18.0]})"
   ]
  },
  {
   "cell_type": "code",
   "execution_count": 41,
   "id": "6048980d",
   "metadata": {},
   "outputs": [
    {
     "data": {
      "text/html": [
       "<div>\n",
       "<style scoped>\n",
       "    .dataframe tbody tr th:only-of-type {\n",
       "        vertical-align: middle;\n",
       "    }\n",
       "\n",
       "    .dataframe tbody tr th {\n",
       "        vertical-align: top;\n",
       "    }\n",
       "\n",
       "    .dataframe thead th {\n",
       "        text-align: right;\n",
       "    }\n",
       "</style>\n",
       "<table border=\"1\" class=\"dataframe\">\n",
       "  <thead>\n",
       "    <tr style=\"text-align: right;\">\n",
       "      <th></th>\n",
       "      <th>diameter</th>\n",
       "      <th>price</th>\n",
       "    </tr>\n",
       "  </thead>\n",
       "  <tbody>\n",
       "    <tr>\n",
       "      <th>0</th>\n",
       "      <td>6</td>\n",
       "      <td>7.0</td>\n",
       "    </tr>\n",
       "    <tr>\n",
       "      <th>1</th>\n",
       "      <td>8</td>\n",
       "      <td>9.0</td>\n",
       "    </tr>\n",
       "    <tr>\n",
       "      <th>2</th>\n",
       "      <td>10</td>\n",
       "      <td>13.0</td>\n",
       "    </tr>\n",
       "    <tr>\n",
       "      <th>3</th>\n",
       "      <td>14</td>\n",
       "      <td>17.5</td>\n",
       "    </tr>\n",
       "    <tr>\n",
       "      <th>4</th>\n",
       "      <td>18</td>\n",
       "      <td>18.0</td>\n",
       "    </tr>\n",
       "  </tbody>\n",
       "</table>\n",
       "</div>"
      ],
      "text/plain": [
       "   diameter  price\n",
       "0         6    7.0\n",
       "1         8    9.0\n",
       "2        10   13.0\n",
       "3        14   17.5\n",
       "4        18   18.0"
      ]
     },
     "execution_count": 41,
     "metadata": {},
     "output_type": "execute_result"
    }
   ],
   "source": [
    "data"
   ]
  },
  {
   "cell_type": "markdown",
   "id": "2da4f62c",
   "metadata": {},
   "source": [
    "linear equation y=mx+c"
   ]
  },
  {
   "cell_type": "code",
   "execution_count": 44,
   "id": "c92d1a43",
   "metadata": {},
   "outputs": [],
   "source": [
    "x = data.diameter.values.reshape(5,1)"
   ]
  },
  {
   "cell_type": "code",
   "execution_count": 45,
   "id": "e7bfdb3f",
   "metadata": {},
   "outputs": [
    {
     "data": {
      "text/plain": [
       "array([[ 6],\n",
       "       [ 8],\n",
       "       [10],\n",
       "       [14],\n",
       "       [18]], dtype=int64)"
      ]
     },
     "execution_count": 45,
     "metadata": {},
     "output_type": "execute_result"
    }
   ],
   "source": [
    "x"
   ]
  },
  {
   "cell_type": "code",
   "execution_count": 49,
   "id": "ee46a95a",
   "metadata": {},
   "outputs": [
    {
     "data": {
      "text/plain": [
       "array([[ 7. ],\n",
       "       [ 9. ],\n",
       "       [13. ],\n",
       "       [17.5],\n",
       "       [18. ]])"
      ]
     },
     "execution_count": 49,
     "metadata": {},
     "output_type": "execute_result"
    }
   ],
   "source": [
    "y = data.price.values.reshape(5,1)\n",
    "y"
   ]
  },
  {
   "cell_type": "code",
   "execution_count": 50,
   "id": "2d5aa5a7",
   "metadata": {},
   "outputs": [
    {
     "data": {
      "image/png": "[encoded data removed]",
      "text/plain": [
       "<Figure size 432x288 with 1 Axes>"
      ]
     },
     "metadata": {
      "needs_background": "light"
     },
     "output_type": "display_data"
    }
   ],
   "source": [
    "plt.figure()\n",
    "plt.title(\"Pizza price plotted againset diameter\")\n",
    "plt.xlabel(\"Daimeter in Inches\")\n",
    "plt.ylabel(\"Price in dollar\")\n",
    "plt.plot(x,y, \"k.\")\n",
    "plt.grid(True)\n",
    "plt.show()"
   ]
  },
  {
   "cell_type": "code",
   "execution_count": 51,
   "id": "d7fbed43",
   "metadata": {},
   "outputs": [],
   "source": [
    "from sklearn.linear_model import LinearRegression"
   ]
  },
  {
   "cell_type": "code",
   "execution_count": 52,
   "id": "7f9b9a3f",
   "metadata": {},
   "outputs": [
    {
     "data": {
      "text/plain": [
       "LinearRegression()"
      ]
     },
     "execution_count": 52,
     "metadata": {},
     "output_type": "execute_result"
    }
   ],
   "source": [
    "simple_linear_regression = LinearRegression()\n",
    "simple_linear_regression.fit(x, y)"
   ]
  },
  {
   "cell_type": "code",
   "execution_count": 53,
   "id": "d803a6d4",
   "metadata": {},
   "outputs": [],
   "source": [
    "predicted_price = simple_linear_regression.predict(x)"
   ]
  },
  {
   "cell_type": "code",
   "execution_count": 54,
   "id": "7e1653ab",
   "metadata": {},
   "outputs": [
    {
     "data": {
      "text/plain": [
       "array([[ 7.82327586],\n",
       "       [ 9.77586207],\n",
       "       [11.72844828],\n",
       "       [15.63362069],\n",
       "       [19.5387931 ]])"
      ]
     },
     "execution_count": 54,
     "metadata": {},
     "output_type": "execute_result"
    }
   ],
   "source": [
    "predicted_price"
   ]
  },
  {
   "cell_type": "code",
   "execution_count": 55,
   "id": "d6a0c387",
   "metadata": {},
   "outputs": [],
   "source": [
    "data['pred_price'] = predicted_price"
   ]
  },
  {
   "cell_type": "code",
   "execution_count": 56,
   "id": "e582a78e",
   "metadata": {},
   "outputs": [
    {
     "data": {
      "text/html": [
       "<div>\n",
       "<style scoped>\n",
       "    .dataframe tbody tr th:only-of-type {\n",
       "        vertical-align: middle;\n",
       "    }\n",
       "\n",
       "    .dataframe tbody tr th {\n",
       "        vertical-align: top;\n",
       "    }\n",
       "\n",
       "    .dataframe thead th {\n",
       "        text-align: right;\n",
       "    }\n",
       "</style>\n",
       "<table border=\"1\" class=\"dataframe\">\n",
       "  <thead>\n",
       "    <tr style=\"text-align: right;\">\n",
       "      <th></th>\n",
       "      <th>diameter</th>\n",
       "      <th>price</th>\n",
       "      <th>pred_price</th>\n",
       "    </tr>\n",
       "  </thead>\n",
       "  <tbody>\n",
       "    <tr>\n",
       "      <th>0</th>\n",
       "      <td>6</td>\n",
       "      <td>7.0</td>\n",
       "      <td>7.823276</td>\n",
       "    </tr>\n",
       "    <tr>\n",
       "      <th>1</th>\n",
       "      <td>8</td>\n",
       "      <td>9.0</td>\n",
       "      <td>9.775862</td>\n",
       "    </tr>\n",
       "    <tr>\n",
       "      <th>2</th>\n",
       "      <td>10</td>\n",
       "      <td>13.0</td>\n",
       "      <td>11.728448</td>\n",
       "    </tr>\n",
       "    <tr>\n",
       "      <th>3</th>\n",
       "      <td>14</td>\n",
       "      <td>17.5</td>\n",
       "      <td>15.633621</td>\n",
       "    </tr>\n",
       "    <tr>\n",
       "      <th>4</th>\n",
       "      <td>18</td>\n",
       "      <td>18.0</td>\n",
       "      <td>19.538793</td>\n",
       "    </tr>\n",
       "  </tbody>\n",
       "</table>\n",
       "</div>"
      ],
      "text/plain": [
       "   diameter  price  pred_price\n",
       "0         6    7.0    7.823276\n",
       "1         8    9.0    9.775862\n",
       "2        10   13.0   11.728448\n",
       "3        14   17.5   15.633621\n",
       "4        18   18.0   19.538793"
      ]
     },
     "execution_count": 56,
     "metadata": {},
     "output_type": "execute_result"
    }
   ],
   "source": [
    "data"
   ]
  },
  {
   "cell_type": "code",
   "execution_count": 57,
   "id": "8575da97",
   "metadata": {},
   "outputs": [
    {
     "data": {
      "image/png": "[encoded data removed]",
      "text/plain": [
       "<Figure size 432x288 with 1 Axes>"
      ]
     },
     "metadata": {
      "needs_background": "light"
     },
     "output_type": "display_data"
    }
   ],
   "source": [
    "plt.figure()\n",
    "plt.title(\"Pizza price plotted againset diameter\")\n",
    "plt.xlabel(\"Daimeter in Inches\")\n",
    "plt.ylabel(\"Price in dollar\")\n",
    "plt.plot(x,y, \"k.\")\n",
    "plt.plot(x,predicted_price)\n",
    "plt.grid(True)\n",
    "plt.show()"
   ]
  },
  {
   "cell_type": "code",
   "execution_count": 60,
   "id": "98568123",
   "metadata": {},
   "outputs": [
    {
     "name": "stdout",
     "output_type": "stream",
     "text": [
      "Residual sum of all 1.7495689655172406\n"
     ]
    }
   ],
   "source": [
    "# finding error values my mean square function\n",
    "print(f\"Residual sum of all {np.mean((simple_linear_regression.predict(x)-y)**2)}\")"
   ]
  },
  {
   "cell_type": "code",
   "execution_count": 62,
   "id": "447c4d50",
   "metadata": {},
   "outputs": [
    {
     "name": "stdout",
     "output_type": "stream",
     "text": [
      "A 12 inches pizza will cost: [[13.68103448]]\n"
     ]
    }
   ],
   "source": [
    "print(f\"A 12 inches pizza will cost: {simple_linear_regression.predict([[12]])}\")"
   ]
  },
  {
   "cell_type": "code",
   "execution_count": 63,
   "id": "ef4b161f",
   "metadata": {},
   "outputs": [],
   "source": [
    "test_data = pd.DataFrame({'diameter': [8, 9, 11,16, 12], 'price': [11.0, 8.5, 15.0, 18.0, 11.0]})"
   ]
  },
  {
   "cell_type": "code",
   "execution_count": 64,
   "id": "1f99c82b",
   "metadata": {},
   "outputs": [],
   "source": [
    "X_test = test_data.diameter.values.reshape(5,1)"
   ]
  },
  {
   "cell_type": "code",
   "execution_count": 66,
   "id": "71b0d060",
   "metadata": {},
   "outputs": [],
   "source": [
    "Y_test = test_data.price.values.reshape(5,1)"
   ]
  },
  {
   "cell_type": "code",
   "execution_count": 71,
   "id": "25db4d78",
   "metadata": {},
   "outputs": [
    {
     "data": {
      "image/png": "[encoded data removed]",
      "text/plain": [
       "<Figure size 432x288 with 1 Axes>"
      ]
     },
     "metadata": {
      "needs_background": "light"
     },
     "output_type": "display_data"
    }
   ],
   "source": [
    "plt.plot(X_test, Y_test, \"k.\")\n",
    "plt.grid(True)"
   ]
  },
  {
   "cell_type": "code",
   "execution_count": 73,
   "id": "7495c768",
   "metadata": {},
   "outputs": [],
   "source": [
    "r2_score = simple_linear_regression.score(X_test, Y_test)"
   ]
  },
  {
   "cell_type": "code",
   "execution_count": 75,
   "id": "9bcd6c30",
   "metadata": {},
   "outputs": [
    {
     "data": {
      "text/plain": [
       "0.6620052929422553"
      ]
     },
     "execution_count": 75,
     "metadata": {},
     "output_type": "execute_result"
    }
   ],
   "source": [
    "r2_score"
   ]
  },
  {
   "cell_type": "code",
   "execution_count": 76,
   "id": "651dc67c",
   "metadata": {},
   "outputs": [],
   "source": [
    "#Multiple Linear Regression\n"
   ]
  },
  {
   "cell_type": "code",
   "execution_count": 78,
   "id": "40a924b6",
   "metadata": {},
   "outputs": [],
   "source": [
    "data_train = pd.DataFrame({'diameter':[6,8,10,14,18],'toppings': [2,1,0,2,0], 'price':[7,9,13,17.5,18.0]})"
   ]
  },
  {
   "cell_type": "code",
   "execution_count": 82,
   "id": "acc6f7b2",
   "metadata": {},
   "outputs": [],
   "source": [
    "x_train = data_train[['diameter', 'toppings']]"
   ]
  },
  {
   "cell_type": "code",
   "execution_count": 83,
   "id": "91fda13e",
   "metadata": {},
   "outputs": [
    {
     "data": {
      "text/html": [
       "<div>\n",
       "<style scoped>\n",
       "    .dataframe tbody tr th:only-of-type {\n",
       "        vertical-align: middle;\n",
       "    }\n",
       "\n",
       "    .dataframe tbody tr th {\n",
       "        vertical-align: top;\n",
       "    }\n",
       "\n",
       "    .dataframe thead th {\n",
       "        text-align: right;\n",
       "    }\n",
       "</style>\n",
       "<table border=\"1\" class=\"dataframe\">\n",
       "  <thead>\n",
       "    <tr style=\"text-align: right;\">\n",
       "      <th></th>\n",
       "      <th>diameter</th>\n",
       "      <th>toppings</th>\n",
       "    </tr>\n",
       "  </thead>\n",
       "  <tbody>\n",
       "    <tr>\n",
       "      <th>0</th>\n",
       "      <td>6</td>\n",
       "      <td>2</td>\n",
       "    </tr>\n",
       "    <tr>\n",
       "      <th>1</th>\n",
       "      <td>8</td>\n",
       "      <td>1</td>\n",
       "    </tr>\n",
       "    <tr>\n",
       "      <th>2</th>\n",
       "      <td>10</td>\n",
       "      <td>0</td>\n",
       "    </tr>\n",
       "    <tr>\n",
       "      <th>3</th>\n",
       "      <td>14</td>\n",
       "      <td>2</td>\n",
       "    </tr>\n",
       "    <tr>\n",
       "      <th>4</th>\n",
       "      <td>18</td>\n",
       "      <td>0</td>\n",
       "    </tr>\n",
       "  </tbody>\n",
       "</table>\n",
       "</div>"
      ],
      "text/plain": [
       "   diameter  toppings\n",
       "0         6         2\n",
       "1         8         1\n",
       "2        10         0\n",
       "3        14         2\n",
       "4        18         0"
      ]
     },
     "execution_count": 83,
     "metadata": {},
     "output_type": "execute_result"
    }
   ],
   "source": [
    "x_train"
   ]
  },
  {
   "cell_type": "code",
   "execution_count": 84,
   "id": "2393bc7f",
   "metadata": {},
   "outputs": [],
   "source": [
    "y_train = data_train.price.values.reshape(5,1)"
   ]
  },
  {
   "cell_type": "code",
   "execution_count": 85,
   "id": "dcfb26db",
   "metadata": {},
   "outputs": [],
   "source": [
    "mult_linear_reg = LinearRegression()"
   ]
  },
  {
   "cell_type": "code",
   "execution_count": 86,
   "id": "da6904bc",
   "metadata": {},
   "outputs": [
    {
     "data": {
      "text/plain": [
       "LinearRegression()"
      ]
     },
     "execution_count": 86,
     "metadata": {},
     "output_type": "execute_result"
    }
   ],
   "source": [
    "mult_linear_reg.fit(x_train, y_train)"
   ]
  },
  {
   "cell_type": "code",
   "execution_count": 87,
   "id": "2cf01d99",
   "metadata": {},
   "outputs": [],
   "source": [
    "data_test = pd.DataFrame({'diameter': [8, 9, 11, 16, 12], 'toppings': [2, 0, 2, 2, 0], 'price':[11.0, 8.5, 15.0, 18.0, 11.0]})"
   ]
  },
  {
   "cell_type": "code",
   "execution_count": 95,
   "id": "a42dd4b4",
   "metadata": {},
   "outputs": [],
   "source": [
    "x_test = data_test[['diameter', 'toppings']]"
   ]
  },
  {
   "cell_type": "code",
   "execution_count": 97,
   "id": "f6c6d113",
   "metadata": {},
   "outputs": [],
   "source": [
    "y_test = data_test.price.values.reshape(5, 1)"
   ]
  },
  {
   "cell_type": "code",
   "execution_count": 100,
   "id": "cf4f58b0",
   "metadata": {},
   "outputs": [],
   "source": [
    "predict = mult_linear_reg.predict(x_test)"
   ]
  },
  {
   "cell_type": "code",
   "execution_count": 99,
   "id": "cac06ad4",
   "metadata": {},
   "outputs": [
    {
     "data": {
      "text/plain": [
       "0.7701677731318468"
      ]
     },
     "execution_count": 99,
     "metadata": {},
     "output_type": "execute_result"
    }
   ],
   "source": [
    "mult_linear_reg.score(x_test, y_test)"
   ]
  },
  {
   "cell_type": "code",
   "execution_count": 101,
   "id": "795d7085",
   "metadata": {},
   "outputs": [
    {
     "name": "stdout",
     "output_type": "stream",
     "text": [
      "Predicted [10.0625] >>> Actual [11.]\n",
      "Predicted [10.28125] >>> Actual [8.5]\n",
      "Predicted [13.09375] >>> Actual [15.]\n",
      "Predicted [18.14583333] >>> Actual [18.]\n",
      "Predicted [13.3125] >>> Actual [11.]\n"
     ]
    }
   ],
   "source": [
    "for i, p in enumerate(predict):\n",
    "    print(f\"Predicted {p} >>> Actual {y_test[i]}\")"
   ]
  },
  {
   "cell_type": "code",
   "execution_count": null,
   "id": "93d85312",
   "metadata": {},
   "outputs": [],
   "source": []
  }
 ],
 "metadata": {
  "kernelspec": {
   "display_name": "Python 3 (ipykernel)",
   "language": "python",
   "name": "python3"
  },
  "language_info": {
   "codemirror_mode": {
    "name": "ipython",
    "version": 3
   },
   "file_extension": ".py",
   "mimetype": "text/x-python",
   "name": "python",
   "nbconvert_exporter": "python",
   "pygments_lexer": "ipython3",
   "version": "3.9.7"
  }
 },
 "nbformat": 4,
 "nbformat_minor": 5
}
