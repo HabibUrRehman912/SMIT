{
 "cells": [
  {
   "cell_type": "code",
   "execution_count": 54,
   "id": "edc0b57a",
   "metadata": {},
   "outputs": [
    {
     "name": "stdout",
     "output_type": "stream",
     "text": [
      "[5 6 7 1 2 3 4]\n"
     ]
    }
   ],
   "source": [
    "import numpy as np\n",
    "\n",
    "A = [1,2,3,4,5,6,7]\n",
    "#A = [7,1,2,3,4,5,6]\n",
    "#A = [6,7,1,2,3,4,5]\n",
    "#A = [5,6,7,1,2,3,4]\n",
    "\n",
    "    \n",
    "#print(A)\n",
    "print(np.roll(A,3))\n",
    "\n",
    "\n"
   ]
  },
  {
   "cell_type": "code",
   "execution_count": 57,
   "id": "c1a62da0",
   "metadata": {},
   "outputs": [
    {
     "name": "stdout",
     "output_type": "stream",
     "text": [
      "[4, 5, 6, 7, 1, 2, 3]\n"
     ]
    }
   ],
   "source": [
    "A = [1,2,3,4,5,6,7]\n",
    "x = 4\n",
    "for i in range(0,x):\n",
    "    k = A[len(A)-1]\n",
    "    for j in range(len(A)-1,-1,-1):\n",
    "           A[j] = A[j-1]\n",
    "    A[0] = k\n",
    "print(A)"
   ]
  },
  {
   "cell_type": "code",
   "execution_count": 64,
   "id": "3ee19c21",
   "metadata": {},
   "outputs": [
    {
     "name": "stdout",
     "output_type": "stream",
     "text": [
      "[5, 6, 7, 1, 2, 3, 4]\n"
     ]
    }
   ],
   "source": [
    "A = [1,2,3,4,5,6,7]\n",
    "x = 4\n",
    "for i in range(0,x):\n",
    "    k = A[0]\n",
    "    for j in range(0,len(A)-1):\n",
    "            A[j] = A[j+1]\n",
    "    A[len(A)-1] = k\n",
    "print(A)"
   ]
  },
  {
   "cell_type": "code",
   "execution_count": null,
   "id": "52a6ad25",
   "metadata": {},
   "outputs": [],
   "source": []
  }
 ],
 "metadata": {
  "kernelspec": {
   "display_name": "Python 3 (ipykernel)",
   "language": "python",
   "name": "python3"
  },
  "language_info": {
   "codemirror_mode": {
    "name": "ipython",
    "version": 3
   },
   "file_extension": ".py",
   "mimetype": "text/x-python",
   "name": "python",
   "nbconvert_exporter": "python",
   "pygments_lexer": "ipython3",
   "version": "3.9.7"
  }
 },
 "nbformat": 4,
 "nbformat_minor": 5
}
